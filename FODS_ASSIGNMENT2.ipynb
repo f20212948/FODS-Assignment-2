{
  "cells": [
    {
      "cell_type": "markdown",
      "metadata": {
        "id": "Dv65WiS2Ej1m"
      },
      "source": [
        "# 2A"
      ]
    },
    {
      "cell_type": "markdown",
      "metadata": {
        "id": "f6OSW3xK9nkx"
      },
      "source": [
        "### Importing the Libraries and the Dataset"
      ]
    },
    {
      "cell_type": "code",
      "execution_count": null,
      "metadata": {
        "id": "Fs97RKeJrBbT"
      },
      "outputs": [],
      "source": [
        "import numpy as np\n",
        "import pandas as pd\n",
        "import matplotlib.pyplot as plt\n",
        "import random\n",
        "import seaborn as sns"
      ]
    },
    {
      "cell_type": "code",
      "execution_count": null,
      "metadata": {
        "id": "zrJNKDf0rjMK"
      },
      "outputs": [],
      "source": [
        "df = pd.read_excel('./audi.xlsx')"
      ]
    },
    {
      "cell_type": "markdown",
      "metadata": {
        "id": "S4NCjvBj9smf"
      },
      "source": [
        "### Data Understanding and Visualisation"
      ]
    },
    {
      "cell_type": "code",
      "execution_count": null,
      "metadata": {
        "colab": {
          "base_uri": "https://localhost:8080/",
          "height": 206
        },
        "id": "TPvsthiQr4Mq",
        "outputId": "4dfdc7f3-cd6a-4f52-daa3-de2c61353e58"
      },
      "outputs": [],
      "source": [
        "df.head()"
      ]
    },
    {
      "cell_type": "code",
      "execution_count": null,
      "metadata": {
        "colab": {
          "base_uri": "https://localhost:8080/",
          "height": 549
        },
        "id": "9dQ99rO99PI1",
        "outputId": "3a5aa66c-f3f8-43cd-f125-9531a37e40b4"
      },
      "outputs": [],
      "source": [
        "df.hist(figsize=(20,10), grid = False, layout=(4,4), bins = 50)"
      ]
    },
    {
      "cell_type": "code",
      "execution_count": null,
      "metadata": {
        "colab": {
          "base_uri": "https://localhost:8080/",
          "height": 1000
        },
        "id": "_6YHHEWp9RvP",
        "outputId": "3e506b1e-ca59-4286-84e4-f0a727094f5e"
      },
      "outputs": [],
      "source": [
        "sns.pairplot(df, height = 2)\n",
        "plt.show()"
      ]
    },
    {
      "cell_type": "markdown",
      "metadata": {
        "id": "I_2JVwKQ9-0d"
      },
      "source": [
        "#### X becomes are features space for the dataset and Y becomes are target feature"
      ]
    },
    {
      "cell_type": "code",
      "execution_count": null,
      "metadata": {
        "id": "_Ns6Wj04u4Kr"
      },
      "outputs": [],
      "source": [
        "X = df[['mileage','tax','mpg','engineSize']]\n",
        "Y = df[['price']]"
      ]
    },
    {
      "cell_type": "code",
      "execution_count": null,
      "metadata": {
        "colab": {
          "base_uri": "https://localhost:8080/"
        },
        "id": "9YYRykfGvU4B",
        "outputId": "45a72a4f-caab-4305-bf4f-f6c5f246b5b6"
      },
      "outputs": [],
      "source": [
        "X.shape"
      ]
    },
    {
      "cell_type": "code",
      "execution_count": null,
      "metadata": {
        "colab": {
          "base_uri": "https://localhost:8080/",
          "height": 206
        },
        "id": "s77k5rrmwB2Y",
        "outputId": "d96ae9bb-b3ea-44a9-aa4a-993ca5feac79"
      },
      "outputs": [],
      "source": [
        "X.head()"
      ]
    },
    {
      "cell_type": "markdown",
      "metadata": {
        "id": "iMWbiKdA-HDs"
      },
      "source": [
        "### Data Standardization"
      ]
    },
    {
      "cell_type": "code",
      "execution_count": null,
      "metadata": {
        "id": "JqqbsTCFwEyY"
      },
      "outputs": [],
      "source": [
        "def mean(x): # np.mean(X, axis = 0)\n",
        "    return np.mean(X, axis = 0)\n",
        "\n",
        "def std(x): # np.std(X, axis = 0)\n",
        "    return np.std(X, axis = 0)\n",
        "\n",
        "def Standardize_data(X):\n",
        "    return (X - mean(X))/std(X)\n",
        "\n",
        "X_std = Standardize_data(X)"
      ]
    },
    {
      "cell_type": "markdown",
      "metadata": {
        "id": "-lR5jLIZ-ODg"
      },
      "source": [
        "### Finding the Covariance Matrix"
      ]
    },
    {
      "cell_type": "code",
      "execution_count": null,
      "metadata": {
        "colab": {
          "base_uri": "https://localhost:8080/"
        },
        "id": "skOVLWivxxCc",
        "outputId": "32e83983-4be1-4a46-a6e9-ff24ab49fb07"
      },
      "outputs": [],
      "source": [
        "def covariance(x):\n",
        "    return np.cov(x.T)\n",
        "\n",
        "cov_mat = covariance(X_std)\n",
        "cov_mat"
      ]
    },
    {
      "cell_type": "markdown",
      "metadata": {
        "id": "_xD2Fasi_O8Y"
      },
      "source": [
        "### The Eigen Values and the Eigen Vectors of the Covariance Matrix"
      ]
    },
    {
      "cell_type": "code",
      "execution_count": null,
      "metadata": {
        "colab": {
          "base_uri": "https://localhost:8080/"
        },
        "id": "KugFPg6oyg1Q",
        "outputId": "692d33d5-8dd5-4b64-e77a-b3fb987a464f"
      },
      "outputs": [],
      "source": [
        "from numpy.linalg import eig\n",
        "\n",
        "eig_vals, eig_vecs = np.linalg.eig(cov_mat)\n",
        "sorted_indices = np.argsort(eig_vals)[::-1]\n",
        "eig_vals = eig_vals[sorted_indices]\n",
        "eig_vecs = eig_vecs[:, sorted_indices]\n",
        "print('Eigenvalues \\n', eig_vals)\n",
        "print('Eigenvectors \\n', eig_vecs)"
      ]
    },
    {
      "cell_type": "markdown",
      "metadata": {
        "id": "17KNTtNL_GVX"
      },
      "source": [
        "### Chose the Principal Components\n",
        "<li> By changing the value of K we can get the top K principal components"
      ]
    },
    {
      "cell_type": "code",
      "execution_count": null,
      "metadata": {
        "id": "0zG7zYV2_CYM"
      },
      "outputs": [],
      "source": [
        "# Select top k eigenvectors\n",
        "k = 2\n",
        "W = eig_vecs[:k, :] # Projection matrix"
      ]
    },
    {
      "cell_type": "code",
      "execution_count": null,
      "metadata": {
        "colab": {
          "base_uri": "https://localhost:8080/",
          "height": 484
        },
        "id": "-i2E1BDZ6l4l",
        "outputId": "2b790a8f-cdd7-4340-e66c-ed3d5c2fc3ab"
      },
      "outputs": [],
      "source": [
        "eig_vals_total = sum(eig_vals)\n",
        "explained_variance = [(i / eig_vals_total) for i in eig_vals]\n",
        "explained_variance = np.round(explained_variance, 2)\n",
        "cum_explained_variance = np.cumsum(explained_variance)\n",
        "\n",
        "print('Explained variance: {}'.format(explained_variance))\n",
        "print('Cumulative explained variance: {}'.format(cum_explained_variance))\n",
        "\n",
        "plt.plot(np.arange(1,X.shape[1]+1), cum_explained_variance, '-o')\n",
        "plt.xticks(np.arange(1,X.shape[1]+1))\n",
        "plt.xlabel('Number of components')\n",
        "plt.ylabel('Cumulative explained variance');\n",
        "plt.show()\n",
        "\n"
      ]
    },
    {
      "cell_type": "markdown",
      "metadata": {
        "id": "veerjQGVA-Q5"
      },
      "source": [
        "### Project the Data"
      ]
    },
    {
      "cell_type": "code",
      "execution_count": null,
      "metadata": {
        "colab": {
          "base_uri": "https://localhost:8080/"
        },
        "id": "24iMHS46BAP0",
        "outputId": "50c6854a-bc49-4c4a-a231-052baa9f339d"
      },
      "outputs": [],
      "source": [
        "X_proj = X_std.dot(W.T)\n",
        "\n",
        "print(X_proj.shape)"
      ]
    },
    {
      "cell_type": "code",
      "execution_count": null,
      "metadata": {
        "colab": {
          "base_uri": "https://localhost:8080/"
        },
        "id": "pxPhPSNPC3De",
        "outputId": "94010ec7-8301-4766-d865-3215a49da2a8"
      },
      "outputs": [],
      "source": [
        "print('Components:\\n', W)\n",
        "print('Explained variance scratch:\\n', explained_variance)\n",
        "print('Cumulative explained variance from scratch:\\n', cum_explained_variance)"
      ]
    },
    {
      "cell_type": "code",
      "execution_count": null,
      "metadata": {
        "colab": {
          "base_uri": "https://localhost:8080/",
          "height": 407
        },
        "id": "aHaWoWc7DMZn",
        "outputId": "869f9c37-bdac-4f1f-89f7-1212922c989a"
      },
      "outputs": [],
      "source": [
        "plt.figure(figsize=(6, 4))\n",
        "plt.step(range(4), cum_explained_variance, where='mid',label='cumulative explained variance')\n",
        "plt.bar(range(4), explained_variance, alpha=0.5, align='center',label='individual explained variance')\n",
        "plt.ylabel('Explained variance ratio')\n",
        "plt.xlabel('Principal components')\n",
        "plt.legend(loc='best')\n",
        "plt.tight_layout()"
      ]
    },
    {
      "cell_type": "code",
      "execution_count": null,
      "metadata": {
        "colab": {
          "base_uri": "https://localhost:8080/",
          "height": 448
        },
        "id": "3hVzAtuVBChW",
        "outputId": "9e15e031-f4fc-4716-8b6c-b125a8ecddb0"
      },
      "outputs": [],
      "source": [
        "plt.scatter(X_proj[0], X_proj[ 1])\n",
        "plt.xlabel('PC1'); plt.xticks([])\n",
        "plt.ylabel('PC2'); plt.yticks([])\n",
        "plt.title('2 components, captures {}% of total variation'.format(cum_explained_variance[1].round(4)))\n",
        "plt.show()\n",
        "plt.show()"
      ]
    },
    {
      "cell_type": "code",
      "execution_count": null,
      "metadata": {
        "colab": {
          "base_uri": "https://localhost:8080/",
          "height": 1000
        },
        "id": "pCd1-7XsD0_d",
        "outputId": "2d8bc959-2eeb-488a-deb6-7ed38bf6ffec"
      },
      "outputs": [],
      "source": [
        "g = sns.pairplot(X)\n",
        "axes = g.axes\n",
        "for i in range(X.shape[1]):\n",
        "    for j in range(X.shape[1]):\n",
        "        if i != j:\n",
        "            pc = eig_vecs[i]\n",
        "            pc_scaled = np.sqrt(eig_vals[i]) * pc\n",
        "            axes[i, j].quiver(0, 0, pc_scaled[0], pc_scaled[1], angles='xy', scale_units='xy', scale=0.1, color='r')\n",
        "plt.show()"
      ]
    },
    {
      "cell_type": "markdown",
      "metadata": {
        "id": "Z2UNwHFWYCs4"
      },
      "source": [
        "# 2B"
      ]
    },
    {
      "cell_type": "markdown",
      "metadata": {
        "id": "mYCed52_YxEl"
      },
      "source": [
        "## Importing the Libraries and the Dataset"
      ]
    },
    {
      "cell_type": "code",
      "execution_count": null,
      "metadata": {
        "id": "C0MomBvEOD9G"
      },
      "outputs": [],
      "source": [
        "df = pd.read_excel(\"./Hitters.xlsx\")"
      ]
    },
    {
      "cell_type": "code",
      "execution_count": null,
      "metadata": {
        "colab": {
          "base_uri": "https://localhost:8080/",
          "height": 424
        },
        "id": "C90tOj_ZOD7o",
        "outputId": "6a19eb89-a742-407b-d1b8-ba3d84824412"
      },
      "outputs": [],
      "source": [
        "df"
      ]
    },
    {
      "cell_type": "markdown",
      "metadata": {
        "id": "OdVNW8feQeX2"
      },
      "source": [
        "## Dataset Understanding and Visualization"
      ]
    },
    {
      "cell_type": "code",
      "execution_count": null,
      "metadata": {
        "colab": {
          "base_uri": "https://localhost:8080/"
        },
        "id": "JArJ4TV-QXiD",
        "outputId": "24981302-9e24-4905-f02b-1f3e03a194e9"
      },
      "outputs": [],
      "source": [
        "df.info()"
      ]
    },
    {
      "cell_type": "markdown",
      "metadata": {
        "id": "FRCgbJE3QiGQ"
      },
      "source": [
        "### Finding the Categorical Columns"
      ]
    },
    {
      "cell_type": "code",
      "execution_count": null,
      "metadata": {
        "colab": {
          "base_uri": "https://localhost:8080/",
          "height": 424
        },
        "id": "LMWzv-qiOD5X",
        "outputId": "41db3ab0-b70b-480a-96ed-0b5ae39728e2"
      },
      "outputs": [],
      "source": [
        "categorical_cols = df.select_dtypes(include = 'O')\n",
        "categorical_cols"
      ]
    },
    {
      "cell_type": "code",
      "execution_count": null,
      "metadata": {
        "colab": {
          "base_uri": "https://localhost:8080/",
          "height": 1000
        },
        "id": "rQcxWujjHea_",
        "outputId": "6efc0ca0-627c-4cc1-8619-b948af527965"
      },
      "outputs": [],
      "source": [
        "df.hist(figsize=(20,10), grid = False, bins = 50)"
      ]
    },
    {
      "cell_type": "code",
      "execution_count": null,
      "metadata": {
        "colab": {
          "base_uri": "https://localhost:8080/",
          "height": 1000
        },
        "id": "gAwbfo3uHpPg",
        "outputId": "3c672a12-4c25-45ca-8219-e42e472b9a23"
      },
      "outputs": [],
      "source": [
        "sns.pairplot(df)"
      ]
    },
    {
      "cell_type": "code",
      "execution_count": null,
      "metadata": {
        "id": "Cllx0D94tyfT"
      },
      "outputs": [],
      "source": [
        "#rom sklearn.preprocessing import LabelEncoder\n",
        "#label_encoder=LabelEncoder()\n",
        "columns_to_encode=['League','Division','NewLeague']\n",
        "#for column in columns_to_encode:\n",
        "#  df[column]=label_encoder.fit_transform(df[column])\n",
        "\n",
        "df= df.drop(columns=columns_to_encode)"
      ]
    },
    {
      "cell_type": "markdown",
      "metadata": {
        "id": "H84uHdYoQlc1"
      },
      "source": [
        "### Taking Care of NaN values"
      ]
    },
    {
      "cell_type": "code",
      "execution_count": null,
      "metadata": {
        "colab": {
          "base_uri": "https://localhost:8080/"
        },
        "id": "o5bmupt8Qpta",
        "outputId": "da313b60-80c2-4606-9b7c-4a30b2062fcf"
      },
      "outputs": [],
      "source": [
        "df.isna().any()"
      ]
    },
    {
      "cell_type": "code",
      "execution_count": null,
      "metadata": {
        "id": "B8gRd5gcRJll"
      },
      "outputs": [],
      "source": [
        "df['Salary'] = df['Salary'].replace(np.NaN , df['Salary'].mean())\n",
        "#df=df.dropna()"
      ]
    },
    {
      "cell_type": "code",
      "execution_count": null,
      "metadata": {
        "colab": {
          "base_uri": "https://localhost:8080/",
          "height": 320
        },
        "id": "W4U_dRNMQpqV",
        "outputId": "01c9f0b8-13b0-483c-be9c-44c0a9a13d43"
      },
      "outputs": [],
      "source": [
        "df.describe()"
      ]
    },
    {
      "cell_type": "code",
      "execution_count": null,
      "metadata": {
        "colab": {
          "base_uri": "https://localhost:8080/",
          "height": 424
        },
        "id": "UhAZ0ReMTcKf",
        "outputId": "c39f1b96-8443-415a-d0f2-79033fb6e04b"
      },
      "outputs": [],
      "source": [
        "X = df.drop(columns=['Salary'])\n",
        "Y = df['Salary']\n",
        "X"
      ]
    },
    {
      "cell_type": "markdown",
      "metadata": {
        "id": "6_Jm-CTpRoJn"
      },
      "source": [
        "### Standardising the Data"
      ]
    },
    {
      "cell_type": "code",
      "execution_count": null,
      "metadata": {
        "colab": {
          "base_uri": "https://localhost:8080/",
          "height": 424
        },
        "id": "zbJ3-skaQpoH",
        "outputId": "1e8a2665-7643-4ff5-e3b8-0b7a62deb1c3"
      },
      "outputs": [],
      "source": [
        "for cols in X.columns:\n",
        "  X[cols] = (X[cols] - X[cols].mean())/(X[cols].std())\n",
        "X"
      ]
    },
    {
      "cell_type": "markdown",
      "metadata": {
        "id": "4j6BSfO_-hO2"
      },
      "source": []
    },
    {
      "cell_type": "markdown",
      "metadata": {
        "id": "p86YOFIASmbB"
      },
      "source": [
        "### Data Visualization"
      ]
    },
    {
      "cell_type": "code",
      "execution_count": null,
      "metadata": {
        "id": "zCL3chyOSpba"
      },
      "outputs": [],
      "source": [
        "df_scaled = pd.concat([X,Y] , axis = 1)"
      ]
    },
    {
      "cell_type": "code",
      "execution_count": null,
      "metadata": {
        "colab": {
          "base_uri": "https://localhost:8080/",
          "height": 498
        },
        "id": "Vf584klySpZg",
        "outputId": "b61053bb-81a2-414e-9b13-18077ef3087e"
      },
      "outputs": [],
      "source": [
        "sns.heatmap(df_scaled.corr())"
      ]
    },
    {
      "cell_type": "code",
      "execution_count": null,
      "metadata": {
        "colab": {
          "base_uri": "https://localhost:8080/",
          "height": 424
        },
        "id": "fYbbADLzSpXg",
        "outputId": "4a215636-bb17-4363-d116-e3eb94dd63d3"
      },
      "outputs": [],
      "source": [
        "df_scaled"
      ]
    },
    {
      "cell_type": "markdown",
      "metadata": {
        "id": "-a1gYUaOY9hs"
      },
      "source": [
        "### PCA"
      ]
    },
    {
      "cell_type": "code",
      "execution_count": null,
      "metadata": {
        "colab": {
          "base_uri": "https://localhost:8080/",
          "height": 424
        },
        "id": "Ij31mn6aY8mq",
        "outputId": "2b9d0725-c2f9-43db-e01f-92dbdbb58a19"
      },
      "outputs": [],
      "source": [
        "def covariance(x):\n",
        "    return np.cov(x.T)\n",
        "\n",
        "cov_mat = covariance(X)\n",
        "\n",
        "from numpy.linalg import eig\n",
        "\n",
        "eig_vals, eig_vecs = np.linalg.eig(cov_mat)\n",
        "sorted_indices = np.argsort(eig_vals)[::-1]\n",
        "eig_vals = eig_vals[sorted_indices]\n",
        "eig_vecs = eig_vecs[:, sorted_indices]\n",
        "# print('Eigenvalues \\n', eig_vals)\n",
        "# print('Eigenvectors \\n', eig_vecs)\n",
        "\n",
        "# Select top k eigenvectors\n",
        "k =4\n",
        "W = eig_vecs[:k, :] # Projection matrix\n",
        "\n",
        "eig_vals_total = sum(eig_vals)\n",
        "explained_variance = [(i / eig_vals_total) for i in eig_vals]\n",
        "explained_variance = np.round(explained_variance, 2)\n",
        "cum_explained_variance = np.cumsum(explained_variance)\n",
        "\n",
        "X_proj = X.dot(W.T) ### Projected Data\n",
        "X_proj\n"
      ]
    },
    {
      "cell_type": "markdown",
      "metadata": {
        "id": "qD2HeZcsav9F"
      },
      "source": [
        "### Linear Regression (without PCA)"
      ]
    },
    {
      "cell_type": "code",
      "execution_count": null,
      "metadata": {
        "id": "yjqKkZVXa4Hl"
      },
      "outputs": [],
      "source": [
        "def custom_train_test_split(X, y, test_size, random_state):\n",
        "    if random_state is not None:\n",
        "        random.seed(random_state)\n",
        "    num_samples = len(X)\n",
        "    num_test = int(test_size * num_samples)\n",
        "    indices = list(range(num_samples))\n",
        "    random.shuffle(indices)\n",
        "    test_indices = indices[:num_test]\n",
        "    train_indices = indices[num_test:]\n",
        "    X_train = [X[i] for i in train_indices]\n",
        "    Y_train = [y[i] for i in train_indices]\n",
        "    X_test = [X[i] for i in test_indices]\n",
        "    Y_test = [y[i] for i in test_indices]\n",
        "    X_train = np.array(X_train)\n",
        "    X_test = np.array(X_test)\n",
        "    Y_train = np.array(Y_train)\n",
        "    Y_test = np.array(Y_test)\n",
        "    return X_train, X_test, Y_train, Y_test"
      ]
    },
    {
      "cell_type": "code",
      "execution_count": null,
      "metadata": {
        "id": "gvSXqWRF5Sd1"
      },
      "outputs": [],
      "source": [
        "X1 = X.to_numpy()\n",
        "Y1 = Y.to_numpy()"
      ]
    },
    {
      "cell_type": "code",
      "execution_count": null,
      "metadata": {
        "id": "q3Ob_cTq48eh"
      },
      "outputs": [],
      "source": [
        "X_train , X_test , Y_train , Y_test = custom_train_test_split(X1,Y1,test_size=0.2,random_state=2)"
      ]
    },
    {
      "cell_type": "code",
      "execution_count": null,
      "metadata": {
        "id": "HBw4lF1c5imD"
      },
      "outputs": [],
      "source": [
        "def predict_Y( bias ,weights , features):\n",
        "  return bias + np.dot(features, weights)\n",
        "\n",
        "def get_cost(Y,Y_hat):\n",
        "  rmse = np.sqrt(((Y - Y_hat) ** 2).mean())\n",
        "  return rmse\n",
        "\n",
        "def update_theta(x , y , y_hat , b_0 , theta_o , learning_rate):\n",
        "  grad_b = (np.sum(y_hat-y))/len(y)\n",
        "  grad_w = (np.dot((y_hat-y),x))/len(y)\n",
        "  b_1 = b_0 - learning_rate*grad_b\n",
        "  theta_1 = theta_o - learning_rate*grad_w\n",
        "  return b_1 , theta_1"
      ]
    },
    {
      "cell_type": "code",
      "execution_count": null,
      "metadata": {
        "colab": {
          "base_uri": "https://localhost:8080/"
        },
        "id": "bOvvVi1n5sfV",
        "outputId": "21b29040-a2b8-4670-fe89-6f9c458b89bb"
      },
      "outputs": [],
      "source": [
        "X_train.shape,Y_train.shape,X_test.shape,Y_test.shape"
      ]
    },
    {
      "cell_type": "code",
      "execution_count": null,
      "metadata": {
        "id": "ZnT8Grct5-4i"
      },
      "outputs": [],
      "source": [
        "def run_gradient_descent(X,Y,alpha,num_iterations):\n",
        "  b=random.random()\n",
        "  theta=np.random.rand(X.shape[1])\n",
        "  J = []\n",
        "  for each_iter in range(num_iterations):\n",
        "\n",
        "    Y_hat = predict_Y(b,theta,X)\n",
        "    prev_b = b\n",
        "    prev_theta = theta\n",
        "    b,theta = update_theta(X,Y,Y_hat,prev_b,prev_theta,alpha)\n",
        "    J.append(get_cost(Y,Y_hat))\n",
        "\n",
        "\n",
        "  print(\"Final Estimate of b and theta : \",b,theta)\n",
        "  return b,theta,J"
      ]
    },
    {
      "cell_type": "code",
      "execution_count": null,
      "metadata": {
        "colab": {
          "base_uri": "https://localhost:8080/",
          "height": 684
        },
        "id": "jfCLZRsu6oBg",
        "outputId": "662f46d5-3a49-492b-fffe-c2762b6dbbe0"
      },
      "outputs": [],
      "source": [
        "plt.figure(figsize=(10,6))\n",
        "\n",
        "b,theta,cost_curve=run_gradient_descent(X_train , Y_train , alpha=0.01 , num_iterations=500)\n",
        "y_test_pred = predict_Y(b , theta , X_test)\n",
        "y_test_error= get_cost(Y_test,y_test_pred)\n",
        "plt.plot(cost_curve , label = \"Epochs\")\n",
        "\n",
        "plt.title(\"Regression without PCA\")\n",
        "plt.legend()\n",
        "print('\\n')\n",
        "print(f'Minimum Cost Function Value: {min(cost_curve)}')\n",
        "print(f'Test errors: {y_test_error}')"
      ]
    },
    {
      "cell_type": "markdown",
      "metadata": {
        "id": "_4glkd38DIZE"
      },
      "source": [
        "## With PCA"
      ]
    },
    {
      "cell_type": "code",
      "execution_count": null,
      "metadata": {
        "colab": {
          "base_uri": "https://localhost:8080/",
          "height": 1000
        },
        "id": "0oBfjjZ8DKwl",
        "outputId": "a648eab0-e56b-4e22-d94e-963b00dfee7f"
      },
      "outputs": [],
      "source": [
        "test_errors = []\n",
        "bs= []\n",
        "thetas = []\n",
        "for k in range(1,17):\n",
        "  W = eig_vecs[:k, :]\n",
        "  X_pca = X.dot(W.T) ### Projected Data\n",
        "  X1 = X_pca.to_numpy()\n",
        "  Y1 = Y.to_numpy()\n",
        "  X_train , X_test , Y_train , Y_test = custom_train_test_split(X1,Y1,test_size=0.2,random_state=2)\n",
        "\n",
        "  b,theta,cost_curve=run_gradient_descent(X_train , Y_train , alpha=0.01 , num_iterations=500)\n",
        "\n",
        "  y_test_pred = predict_Y(b , theta , X_test)\n",
        "  y_test_error= get_cost(Y_test,y_test_pred)\n",
        "  test_errors.append(get_cost(Y_test , y_test_pred))\n",
        "  bs.append(b)\n",
        "  thetas.append(theta)\n",
        "  plt.plot(cost_curve , label =\"PCA with \" + str(k)+ \" features\")\n",
        "\n",
        "plt.title(\"Regression with PCA\")\n",
        "plt.xlabel('epochs')\n",
        "plt.ylabel('Testing error')\n",
        "plt.legend()\n",
        "print('\\n')\n",
        "print(f'Minimum Cost Function Value: {min(cost_curve)}')\n",
        "print(f'Test errors: {y_test_error}')\n",
        " # y_test_pred = predict_Y(b , theta , Xi_test)"
      ]
    },
    {
      "cell_type": "code",
      "execution_count": null,
      "metadata": {
        "id": "qSsycsl8GYSw"
      },
      "outputs": [],
      "source": [
        "test_error_nopca=[]\n",
        "for i in range (1,17):\n",
        "  test_error_nopca.append(y_test_error)"
      ]
    },
    {
      "cell_type": "code",
      "execution_count": null,
      "metadata": {
        "colab": {
          "base_uri": "https://localhost:8080/",
          "height": 466
        },
        "id": "8oZoAJloD_KZ",
        "outputId": "d70f74ea-b480-4937-a7fe-c4c073d2f39f"
      },
      "outputs": [],
      "source": [
        "plt.plot(test_error_nopca , label = \"Without PCA\")\n",
        "plt.plot(test_errors , label = \"PCA\")\n",
        "plt.xlabel(\"No. of principal components\")\n",
        "plt.ylabel(\"Test Errors\")\n",
        "plt.legend()"
      ]
    },
    {
      "cell_type": "markdown",
      "metadata": {
        "id": "9EcL_iz7D8x2"
      },
      "source": [
        "### Looking at the Graph we can observe that the model that gives the best results would be the one with 4 principal components\n",
        "Therefore the Best estimate of weights and bias would be:"
      ]
    },
    {
      "cell_type": "code",
      "execution_count": null,
      "metadata": {
        "colab": {
          "base_uri": "https://localhost:8080/"
        },
        "id": "2q7YAKy38i0f",
        "outputId": "3eafd5b6-efec-436c-a724-415d7170c284"
      },
      "outputs": [],
      "source": [
        "print(f'The best estimate of Bias b : {bs[3]}')\n",
        "print(f'The best estimate of Weights Thetas : {thetas[3]}')"
      ]
    },
    {
      "cell_type": "code",
      "execution_count": null,
      "metadata": {
        "colab": {
          "base_uri": "https://localhost:8080/"
        },
        "id": "T8nT7wQPG_EJ",
        "outputId": "1e83e595-89c2-41a5-980a-d4c62a59e8b2"
      },
      "outputs": [],
      "source": [
        "bs[3] , X_proj.shape"
      ]
    },
    {
      "cell_type": "code",
      "execution_count": null,
      "metadata": {
        "colab": {
          "base_uri": "https://localhost:8080/"
        },
        "id": "vTCbEmA4G07U",
        "outputId": "aa3ccc35-1438-4ff1-ab41-86987032a23a"
      },
      "outputs": [],
      "source": [
        "bs[3].shape , thetas[3].shape"
      ]
    },
    {
      "cell_type": "markdown",
      "metadata": {
        "id": "UygiBiRnIV5G"
      },
      "source": []
    },
    {
      "cell_type": "markdown",
      "metadata": {
        "id": "32lYVP0gIaeO"
      },
      "source": [
        "### Visualization of the Model with the most optimum parameters"
      ]
    },
    {
      "cell_type": "code",
      "execution_count": null,
      "metadata": {
        "colab": {
          "base_uri": "https://localhost:8080/",
          "height": 469
        },
        "id": "MlEWEXsbGpYg",
        "outputId": "53f13644-9409-49e1-fb31-1d5357ad04e0"
      },
      "outputs": [],
      "source": [
        "predictions = predict_Y(bs[3] , thetas[3] , X_proj)\n",
        "plt.scatter(np.arange(1 , 323) , predictions , c = 'green' , label = 'Predictions')\n",
        "plt.scatter(np.arange(1 , 323) , Y , c = 'red' , label = 'Actual')\n",
        "plt.title(\"Projections of Predicted data vs Actual Data\")\n",
        "plt.legend()"
      ]
    },
    {
      "cell_type": "code",
      "execution_count": null,
      "metadata": {
        "colab": {
          "base_uri": "https://localhost:8080/"
        },
        "id": "0kY6MU5JItj2",
        "outputId": "2a3873be-d391-49f6-f56d-617f6edb8c28"
      },
      "outputs": [],
      "source": [
        "print(\"         Predictions    Actual Data\")\n",
        "np.stack((predictions , Y), axis=1)"
      ]
    }
  ],
  "metadata": {
    "colab": {
      "provenance": []
    },
    "kernelspec": {
      "display_name": "Python 3",
      "name": "python3"
    },
    "language_info": {
      "codemirror_mode": {
        "name": "ipython",
        "version": 3
      },
      "file_extension": ".py",
      "mimetype": "text/x-python",
      "name": "python",
      "nbconvert_exporter": "python",
      "pygments_lexer": "ipython3",
      "version": "3.11.3"
    }
  },
  "nbformat": 4,
  "nbformat_minor": 0
}
